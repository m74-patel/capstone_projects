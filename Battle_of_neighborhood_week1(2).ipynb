{
    "nbformat_minor": 1, 
    "cells": [
        {
            "source": "# The Battle of Neighborhood-Week1(2)", 
            "cell_type": "markdown", 
            "metadata": {
                "collapsed": true
            }
        }, 
        {
            "source": "<h3><b>Data:</b></h3>", 
            "cell_type": "markdown", 
            "metadata": {}
        }, 
        {
            "source": "<p>In this project we will analysed New York city.</p>", 
            "cell_type": "markdown", 
            "metadata": {}
        }, 
        {
            "source": "<p>We will use following Dataset</p>", 
            "cell_type": "markdown", 
            "metadata": {}
        }, 
        {
            "source": "1) Neighborhood has a total of 5 boroughs and 306 neighborhoods. In order to segement the neighborhoods and explore them, we will essentially need a dataset that contains the 5 boroughs and the      neighborhoods that exist in each borough as well as the the latitude and logitude coordinates of each neighborhood.\n\n   This dataset exists for free on the web. Link to the dataset is : https://geo.nyu.edu/catalog/nyu_2451_34572", 
            "cell_type": "markdown", 
            "metadata": {}
        }, 
        {
            "source": "2) Second data which will be used is the DOHMH Farmers Markets and Food Boxes dataset. In this we will be using the data of Farmers Markets.\n\nhttps://data.cityofnewyork.us/dataset/DOHMH-Farmers-Markets-and-Food-Boxes/8vwk-6iz2\n\nWebsite-https://www.grownyc.org/greenmarketco/foodbox \nGrowNYC's Fresh Food Box Program is a food access initiative that enables under-served communities to purchase fresh, healthy, and primarily regionally grown produce well below traditional retail prices.", 
            "cell_type": "markdown", 
            "metadata": {}
        }, 
        {
            "source": "3) For further analysis we will get data from following link: : \n\n      a)New York Population \n      b)New York City Demographics \n      c)Cuisine of New York city \n https://en.wikipedia.org/wiki/New_York_City ", 
            "cell_type": "markdown", 
            "metadata": {}
        }, 
        {
            "source": " https://en.wikipedia.org/wiki/Economy_of_New_York_City ", 
            "cell_type": "markdown", 
            "metadata": {}
        }, 
        {
            "source": " https://en.wikipedia.org/wiki/Portal:New_York_City ", 
            "cell_type": "markdown", 
            "metadata": {}
        }, 
        {
            "source": " https://en.wikipedia.org/wiki/Cuisine_of_New_York_City ", 
            "cell_type": "markdown", 
            "metadata": {}
        }, 
        {
            "source": "https://en.wikipedia.org/wiki/List_of_Michelin_starred_restaurants_in_New_York_City", 
            "cell_type": "markdown", 
            "metadata": {}
        }, 
        {
            "source": "4) We will use the Foursquare API to explore neighborhoods in New York City.", 
            "cell_type": "markdown", 
            "metadata": {}
        }, 
        {
            "execution_count": null, 
            "cell_type": "code", 
            "metadata": {}, 
            "outputs": [], 
            "source": ""
        }
    ], 
    "metadata": {
        "kernelspec": {
            "display_name": "Python 3.6", 
            "name": "python3", 
            "language": "python"
        }, 
        "language_info": {
            "mimetype": "text/x-python", 
            "nbconvert_exporter": "python", 
            "version": "3.6.8", 
            "name": "python", 
            "file_extension": ".py", 
            "pygments_lexer": "ipython3", 
            "codemirror_mode": {
                "version": 3, 
                "name": "ipython"
            }
        }
    }, 
    "nbformat": 4
}